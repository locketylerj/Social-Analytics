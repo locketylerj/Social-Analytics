{
 "cells": [
  {
   "cell_type": "markdown",
   "metadata": {},
   "source": [
    "## Sentiment Analysis of News Organization's Tweets\n",
    "*  At the time of this analyis CNN and Fox had the most overall positive tweets on average. \n",
    "* When run multiple times at different times during the day, Fox News consitently had more positively rated tweets, which may make sense since they are in support of the current administration versus other news organizations. \n",
    "* Overall BBC World has had some of the more negatively scored tweets by far according to the Vader Analysis. This may be due to the wider range of geographic areas covered in their news coverage.  \n"
   ]
  },
  {
   "cell_type": "code",
   "execution_count": 2,
   "metadata": {},
   "outputs": [],
   "source": [
    "#Import dependencies\n",
    "import tweepy\n",
    "import numpy as np\n",
    "import pandas as pd\n",
    "from datetime import datetime\n",
    "import time\n",
    "import matplotlib.pyplot as plt\n",
    "from matplotlib import style\n",
    "style.use('ggplot')"
   ]
  },
  {
   "cell_type": "code",
   "execution_count": 3,
   "metadata": {},
   "outputs": [],
   "source": [
    "#Import Vader Sentiment Analyzer\n",
    "from vaderSentiment.vaderSentiment import SentimentIntensityAnalyzer\n",
    "analyzer = SentimentIntensityAnalyzer()"
   ]
  },
  {
   "cell_type": "code",
   "execution_count": 4,
   "metadata": {},
   "outputs": [],
   "source": [
    "#Import keys for using tweepy\n",
    "from configtwit import consumer_key, consumer_secret, access_token, access_secret"
   ]
  },
  {
   "cell_type": "code",
   "execution_count": 5,
   "metadata": {},
   "outputs": [],
   "source": [
    "#Define authorization and access tokens and set twitter API wrapper with authorization and parser object\n",
    "auth = tweepy.OAuthHandler(consumer_key, consumer_secret)\n",
    "auth.set_access_token(access_token, access_secret)\n",
    "api = tweepy.API(auth, parser= tweepy.parsers.JSONParser())"
   ]
  },
  {
   "cell_type": "code",
   "execution_count": 6,
   "metadata": {},
   "outputs": [
    {
     "name": "stdout",
     "output_type": "stream",
     "text": [
      "{'neg': 0.216, 'neu': 0.784, 'pos': 0.0, 'compound': -0.296}\n"
     ]
    }
   ],
   "source": [
    "#Do a simple call and analysis on one tweet to see how results look and how they can be used. \n",
    "user_tweets = api.user_timeline(\"@BBCWorld\")\n",
    "print(analyzer.polarity_scores(user_tweets[19][\"text\"]))\n",
    "      \n",
    "#results = analyzer.polarity_scores(user_tweets[i][\"text\"])\n"
   ]
  },
  {
   "cell_type": "code",
   "execution_count": 7,
   "metadata": {},
   "outputs": [
    {
     "name": "stdout",
     "output_type": "stream",
     "text": [
      "{'News Organization': '@BBCWorld', 'Date': 'Thu Aug 02 00:00:24 +0000 2018', 'Compound Score': -0.5994, 'Positive Score': 0.0, 'Negative Score': 0.302, 'Neutral Score': 0.698, 'Tweets Ago': 0}\n"
     ]
    }
   ],
   "source": [
    "#Put together list of news organizations for tweets to analyze\n",
    "targetusers = [\"@BBCWorld\", \"@CBSNews\", \"@CNN\", \"@FoxNews\", \"@nytimes\"]\n",
    "\n",
    "sentiments = []\n",
    "\n",
    "\n",
    "oldest_tweet = None\n",
    "\n",
    "counter = 0\n",
    "\n",
    "#Loop through all target users and for each user loop through 5 pages (each page has 20 tweets). For each user and \n",
    "#page, loop through each of the 20 tweets per page per user and do a vader analysis on each tweet's text. \n",
    "\n",
    "#max_id – Returns only statuses with an ID less than (that is, older than) or equal to the specified ID\n",
    "for user in targetusers:\n",
    "    #Set a variable to hold the initial max_id variable. \n",
    "    oldest_tweet = None\n",
    "    # For each user we have to reset the counter on the number of tweets cycled through. The counter is used for the \"Tweets Ago\" x variable. \n",
    "\n",
    "    counter = 0\n",
    "    \n",
    "    #loop through 5 pages of tweets (100 tweets in total for each target user)   \n",
    "    for x in range(5):\n",
    "        user_tweets = api.user_timeline(user, max_id = oldest_tweet, page = x)\n",
    "        #print(user_tweets)\n",
    "        \n",
    "        \n",
    "        for i in range(20):\n",
    "            \n",
    "            # Run a vader analysis on each of the 20 tweets for each of the 5 pages for each user. \n",
    "            results = analyzer.polarity_scores(user_tweets[i][\"text\"])\n",
    "            \n",
    "        \n",
    "            compound = results[\"compound\"]\n",
    "            pos = results[\"pos\"]\n",
    "            neg = results['neg']\n",
    "            neu = results[\"neu\"]\n",
    "            \n",
    "            #After each tweet analyzed, decrease the max_id variable (which delineates the last tweet analyzed for each user)\n",
    "            #by one to include the last tweet analyzed as the starting point for the next loop of 20 tweets so that all tweets\n",
    "            #analyzed are consecutive. \n",
    "            oldest_tweet = (user_tweets[i][\"id\"])-1\n",
    "            \n",
    "            #Append all the variables to a list of keys that can be transformed into a data frame in the next step. \n",
    "            sentiments.append({\"News Organization\": user,\n",
    "                               \"Date\": user_tweets[i][\"created_at\"],\n",
    "                              \"Compound Score\": compound,\n",
    "                              \"Positive Score\": pos,\n",
    "                              \"Negative Score\": neg,\n",
    "                              \"Neutral Score\": neu,\n",
    "                             \"Tweets Ago\": counter})\n",
    "            \n",
    "           \n",
    "            # For each tweet analyzed increase the counter (Tweets Ago) by one to signify how \n",
    "            #many tweets in the past a particular tweet exists in relation to another.\n",
    "            counter += 1\n",
    "            \n",
    "            \n",
    "            \n",
    "print(sentiments[0])\n"
   ]
  },
  {
   "cell_type": "code",
   "execution_count": 15,
   "metadata": {},
   "outputs": [
    {
     "data": {
      "text/html": [
       "<div>\n",
       "<style scoped>\n",
       "    .dataframe tbody tr th:only-of-type {\n",
       "        vertical-align: middle;\n",
       "    }\n",
       "\n",
       "    .dataframe tbody tr th {\n",
       "        vertical-align: top;\n",
       "    }\n",
       "\n",
       "    .dataframe thead th {\n",
       "        text-align: right;\n",
       "    }\n",
       "</style>\n",
       "<table border=\"1\" class=\"dataframe\">\n",
       "  <thead>\n",
       "    <tr style=\"text-align: right;\">\n",
       "      <th></th>\n",
       "      <th>Compound Score</th>\n",
       "      <th>Date</th>\n",
       "      <th>Negative Score</th>\n",
       "      <th>Neutral Score</th>\n",
       "      <th>News Organization</th>\n",
       "      <th>Positive Score</th>\n",
       "      <th>Tweets Ago</th>\n",
       "    </tr>\n",
       "  </thead>\n",
       "  <tbody>\n",
       "    <tr>\n",
       "      <th>0</th>\n",
       "      <td>-0.5994</td>\n",
       "      <td>Thu Aug 02 00:00:24 +0000 2018</td>\n",
       "      <td>0.302</td>\n",
       "      <td>0.698</td>\n",
       "      <td>@BBCWorld</td>\n",
       "      <td>0.000</td>\n",
       "      <td>0</td>\n",
       "    </tr>\n",
       "    <tr>\n",
       "      <th>1</th>\n",
       "      <td>0.0000</td>\n",
       "      <td>Wed Aug 01 23:45:14 +0000 2018</td>\n",
       "      <td>0.000</td>\n",
       "      <td>1.000</td>\n",
       "      <td>@BBCWorld</td>\n",
       "      <td>0.000</td>\n",
       "      <td>1</td>\n",
       "    </tr>\n",
       "    <tr>\n",
       "      <th>2</th>\n",
       "      <td>0.0000</td>\n",
       "      <td>Wed Aug 01 23:11:21 +0000 2018</td>\n",
       "      <td>0.000</td>\n",
       "      <td>1.000</td>\n",
       "      <td>@BBCWorld</td>\n",
       "      <td>0.000</td>\n",
       "      <td>2</td>\n",
       "    </tr>\n",
       "    <tr>\n",
       "      <th>3</th>\n",
       "      <td>-0.7906</td>\n",
       "      <td>Wed Aug 01 23:08:37 +0000 2018</td>\n",
       "      <td>0.438</td>\n",
       "      <td>0.562</td>\n",
       "      <td>@BBCWorld</td>\n",
       "      <td>0.000</td>\n",
       "      <td>3</td>\n",
       "    </tr>\n",
       "    <tr>\n",
       "      <th>4</th>\n",
       "      <td>0.3400</td>\n",
       "      <td>Wed Aug 01 22:40:25 +0000 2018</td>\n",
       "      <td>0.144</td>\n",
       "      <td>0.625</td>\n",
       "      <td>@BBCWorld</td>\n",
       "      <td>0.231</td>\n",
       "      <td>4</td>\n",
       "    </tr>\n",
       "  </tbody>\n",
       "</table>\n",
       "</div>"
      ],
      "text/plain": [
       "   Compound Score                            Date  Negative Score  \\\n",
       "0         -0.5994  Thu Aug 02 00:00:24 +0000 2018           0.302   \n",
       "1          0.0000  Wed Aug 01 23:45:14 +0000 2018           0.000   \n",
       "2          0.0000  Wed Aug 01 23:11:21 +0000 2018           0.000   \n",
       "3         -0.7906  Wed Aug 01 23:08:37 +0000 2018           0.438   \n",
       "4          0.3400  Wed Aug 01 22:40:25 +0000 2018           0.144   \n",
       "\n",
       "   Neutral Score News Organization  Positive Score  Tweets Ago  \n",
       "0          0.698         @BBCWorld           0.000           0  \n",
       "1          1.000         @BBCWorld           0.000           1  \n",
       "2          1.000         @BBCWorld           0.000           2  \n",
       "3          0.562         @BBCWorld           0.000           3  \n",
       "4          0.625         @BBCWorld           0.231           4  "
      ]
     },
     "execution_count": 15,
     "metadata": {},
     "output_type": "execute_result"
    }
   ],
   "source": [
    "#Set the dictionary of sentiments to a dataframe. \n",
    "news_sentiments_df = pd.DataFrame(sentiments)\n",
    "\n",
    "news_sentiments_df.to_csv(\"Output/NewsTweetsSentiments.csv\")\n",
    "news_sentiments_df.head()"
   ]
  },
  {
   "cell_type": "code",
   "execution_count": 9,
   "metadata": {},
   "outputs": [
    {
     "name": "stdout",
     "output_type": "stream",
     "text": [
      "['@BBCWorld', '@CBSNews', '@CNN', '@FoxNews', '@nytimes']\n"
     ]
    }
   ],
   "source": [
    "print(targetusers)"
   ]
  },
  {
   "cell_type": "code",
   "execution_count": 10,
   "metadata": {},
   "outputs": [
    {
     "data": {
      "text/html": [
       "<div>\n",
       "<style scoped>\n",
       "    .dataframe tbody tr th:only-of-type {\n",
       "        vertical-align: middle;\n",
       "    }\n",
       "\n",
       "    .dataframe tbody tr th {\n",
       "        vertical-align: top;\n",
       "    }\n",
       "\n",
       "    .dataframe thead th {\n",
       "        text-align: right;\n",
       "    }\n",
       "</style>\n",
       "<table border=\"1\" class=\"dataframe\">\n",
       "  <thead>\n",
       "    <tr style=\"text-align: right;\">\n",
       "      <th></th>\n",
       "      <th>Compound Score</th>\n",
       "      <th>Date</th>\n",
       "      <th>Negative Score</th>\n",
       "      <th>Neutral Score</th>\n",
       "      <th>News Organization</th>\n",
       "      <th>Positive Score</th>\n",
       "      <th>Tweets Ago</th>\n",
       "    </tr>\n",
       "  </thead>\n",
       "  <tbody>\n",
       "    <tr>\n",
       "      <th>200</th>\n",
       "      <td>-0.4588</td>\n",
       "      <td>Thu Aug 02 00:41:52 +0000 2018</td>\n",
       "      <td>0.125</td>\n",
       "      <td>0.875</td>\n",
       "      <td>@CNN</td>\n",
       "      <td>0.000</td>\n",
       "      <td>0</td>\n",
       "    </tr>\n",
       "    <tr>\n",
       "      <th>201</th>\n",
       "      <td>0.4767</td>\n",
       "      <td>Thu Aug 02 00:41:07 +0000 2018</td>\n",
       "      <td>0.000</td>\n",
       "      <td>0.846</td>\n",
       "      <td>@CNN</td>\n",
       "      <td>0.154</td>\n",
       "      <td>1</td>\n",
       "    </tr>\n",
       "    <tr>\n",
       "      <th>202</th>\n",
       "      <td>0.0000</td>\n",
       "      <td>Thu Aug 02 00:40:42 +0000 2018</td>\n",
       "      <td>0.000</td>\n",
       "      <td>1.000</td>\n",
       "      <td>@CNN</td>\n",
       "      <td>0.000</td>\n",
       "      <td>2</td>\n",
       "    </tr>\n",
       "    <tr>\n",
       "      <th>203</th>\n",
       "      <td>-0.1779</td>\n",
       "      <td>Thu Aug 02 00:35:00 +0000 2018</td>\n",
       "      <td>0.099</td>\n",
       "      <td>0.830</td>\n",
       "      <td>@CNN</td>\n",
       "      <td>0.071</td>\n",
       "      <td>3</td>\n",
       "    </tr>\n",
       "    <tr>\n",
       "      <th>204</th>\n",
       "      <td>0.0000</td>\n",
       "      <td>Thu Aug 02 00:34:54 +0000 2018</td>\n",
       "      <td>0.000</td>\n",
       "      <td>1.000</td>\n",
       "      <td>@CNN</td>\n",
       "      <td>0.000</td>\n",
       "      <td>4</td>\n",
       "    </tr>\n",
       "  </tbody>\n",
       "</table>\n",
       "</div>"
      ],
      "text/plain": [
       "     Compound Score                            Date  Negative Score  \\\n",
       "200         -0.4588  Thu Aug 02 00:41:52 +0000 2018           0.125   \n",
       "201          0.4767  Thu Aug 02 00:41:07 +0000 2018           0.000   \n",
       "202          0.0000  Thu Aug 02 00:40:42 +0000 2018           0.000   \n",
       "203         -0.1779  Thu Aug 02 00:35:00 +0000 2018           0.099   \n",
       "204          0.0000  Thu Aug 02 00:34:54 +0000 2018           0.000   \n",
       "\n",
       "     Neutral Score News Organization  Positive Score  Tweets Ago  \n",
       "200          0.875              @CNN           0.000           0  \n",
       "201          0.846              @CNN           0.154           1  \n",
       "202          1.000              @CNN           0.000           2  \n",
       "203          0.830              @CNN           0.071           3  \n",
       "204          1.000              @CNN           0.000           4  "
      ]
     },
     "execution_count": 10,
     "metadata": {},
     "output_type": "execute_result"
    }
   ],
   "source": [
    "#Make separate data frames for each news organization so that each one can be plotted separately. \n",
    "BBC_df = news_sentiments_df[news_sentiments_df[\"News Organization\"]== \"@BBCWorld\"]\n",
    "Fox_df = news_sentiments_df[news_sentiments_df[\"News Organization\"]== \"@FoxNews\"]\n",
    "CBS_df = news_sentiments_df[news_sentiments_df[\"News Organization\"]== \"@CBSNews\"]\n",
    "CNN_df = news_sentiments_df[news_sentiments_df[\"News Organization\"]== \"@CNN\"]\n",
    "NYT_df = news_sentiments_df[news_sentiments_df[\"News Organization\"]== \"@nytimes\"]\n",
    "\n",
    "#BBC_df = BBC_df.set_index(\"News Organization\")\n",
    "\n",
    "# print(len(news_sentiments_df))\n",
    "# print(len(BBC_df))\n",
    "CNN_df.head()"
   ]
  },
  {
   "cell_type": "code",
   "execution_count": 21,
   "metadata": {},
   "outputs": [
    {
     "data": {
      "image/png": "[encoded data removed]",
      "text/plain": [
       "<Figure size 432x288 with 1 Axes>"
      ]
     },
     "metadata": {},
     "output_type": "display_data"
    }
   ],
   "source": [
    "CNNplot = plt.scatter(CNN_df[\"Tweets Ago\"], CNN_df[\"Compound Score\"], c = \"r\", marker = \"o\", alpha = 0.65, edgecolor = \"black\")\n",
    "BBCplot = plt.scatter(BBC_df[\"Tweets Ago\"], BBC_df[\"Compound Score\"], c = \"lightblue\", marker = \"o\", alpha = 0.65, edgecolor = \"black\")\n",
    "Foxplot = plt.scatter(Fox_df[\"Tweets Ago\"], Fox_df[\"Compound Score\"], c = \"b\", marker = \"o\", alpha = 0.65, edgecolor = \"black\")\n",
    "CBSplot= plt.scatter(CBS_df[\"Tweets Ago\"], CBS_df[\"Compound Score\"], c = \"g\", marker = \"o\", alpha = 0.65, edgecolor = \"black\")\n",
    "NYTplot= plt.scatter(NYT_df[\"Tweets Ago\"], NYT_df[\"Compound Score\"], c = \"y\", marker = \"o\", alpha = 0.65, edgecolor = \"black\")\n",
    "\n",
    "plt.xlabel(\"Tweets Ago\")\n",
    "plt.ylabel(\"Tweet Polarity\")\n",
    "plt.title(\"Sentiment Analysis of Media Tweets at %s \" %time.strftime(\"%x\"))\n",
    "plt.legend(targetusers, bbox_to_anchor = (1,1))\n",
    "plt.tight_layout()\n",
    "plt.savefig(\"Output/NewsSentimentsScatter.png\")\n",
    "# plt.savefig(\"Output/NewsSentimentsScatterCBS.png\")\n",
    "plt.grid(True)\n",
    "plt.show()"
   ]
  },
  {
   "cell_type": "code",
   "execution_count": 12,
   "metadata": {},
   "outputs": [
    {
     "name": "stdout",
     "output_type": "stream",
     "text": [
      "['@BBCWorld', '@CBSNews', '@CNN', '@FoxNews', '@nytimes']\n"
     ]
    }
   ],
   "source": [
    "print(targetusers)"
   ]
  },
  {
   "cell_type": "code",
   "execution_count": 13,
   "metadata": {},
   "outputs": [
    {
     "data": {
      "text/plain": [
       "News Organization\n",
       "@BBCWorld   -0.151666\n",
       "@CBSNews    -0.124350\n",
       "@CNN         0.029404\n",
       "@FoxNews     0.021877\n",
       "@nytimes     0.015008\n",
       "Name: Compound Score, dtype: float64"
      ]
     },
     "execution_count": 13,
     "metadata": {},
     "output_type": "execute_result"
    }
   ],
   "source": [
    "#Get the averages for each compound score for each news organization. \n",
    "averagesgroup = news_sentiments_df.groupby(\"News Organization\").mean()[\"Compound Score\"]\n",
    "\n",
    "averagesgroup.head()\n",
    "\n"
   ]
  },
  {
   "cell_type": "code",
   "execution_count": 14,
   "metadata": {},
   "outputs": [
    {
     "data": {
      "image/png": "[encoded data removed]",
      "text/plain": [
       "<Figure size 432x288 with 1 Axes>"
      ]
     },
     "metadata": {},
     "output_type": "display_data"
    }
   ],
   "source": [
    "#Plot out the averages for each news organization. \n",
    "averagesgroup.plot(kind = \"bar\", width = 1, align = \"center\")\n",
    "plt.xlabel(\"Tweet Polarity\")\n",
    "plt.ylabel(\"News Organization\")\n",
    "plt.savefig(\"Output/CompoundScoreAverageNews.png\")\n",
    "plt.tight_layout()\n",
    "plt.show()"
   ]
  },
  {
   "cell_type": "code",
   "execution_count": null,
   "metadata": {},
   "outputs": [],
   "source": []
  }
 ],
 "metadata": {
  "kernelspec": {
   "display_name": "Python 3",
   "language": "python",
   "name": "python3"
  },
  "language_info": {
   "codemirror_mode": {
    "name": "ipython",
    "version": 3
   },
   "file_extension": ".py",
   "mimetype": "text/x-python",
   "name": "python",
   "nbconvert_exporter": "python",
   "pygments_lexer": "ipython3",
   "version": "3.6.5"
  }
 },
 "nbformat": 4,
 "nbformat_minor": 2
}
