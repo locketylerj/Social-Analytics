{
 "cells": [
  {
   "cell_type": "markdown",
   "metadata": {},
   "source": [
    "## Sentiment Analysis of News Organization's Tweets\n",
    "*  At the time of this analyis CNN and Fox had the most overall positive tweets on average. \n",
    "* When run multiple times at different times during the day, Fox News consitently had more positively rated tweets, which may make sense since they are in support of the current administration versus other news organizations. \n",
    "* Overall BBC World has had some of the more negatively scored tweets by far according to the Vader Analysis. This may be due to the wider range of geographic areas covered in their news coverage.  \n"
   ]
  },
  {
   "cell_type": "code",
   "execution_count": 11,
   "metadata": {},
   "outputs": [],
   "source": [
    "#Import dependencies\n",
    "import tweepy\n",
    "import numpy as np\n",
    "import pandas as pd\n",
    "from datetime import datetime\n",
    "import time\n",
    "import matplotlib.pyplot as plt\n",
    "from matplotlib import style\n",
    "style.use('ggplot')"
   ]
  },
  {
   "cell_type": "code",
   "execution_count": 12,
   "metadata": {},
   "outputs": [],
   "source": [
    "#Import Vader Sentiment Analyzer\n",
    "from vaderSentiment.vaderSentiment import SentimentIntensityAnalyzer\n",
    "analyzer = SentimentIntensityAnalyzer()"
   ]
  },
  {
   "cell_type": "code",
   "execution_count": 13,
   "metadata": {},
   "outputs": [],
   "source": [
    "#Import keys for using tweepy\n",
    "from configtwit import consumer_key, consumer_secret, access_token, access_secret"
   ]
  },
  {
   "cell_type": "code",
   "execution_count": 14,
   "metadata": {},
   "outputs": [],
   "source": [
    "#Define authorization and access tokens and set twitter API wrapper with authorization and parser object\n",
    "auth = tweepy.OAuthHandler(consumer_key, consumer_secret)\n",
    "auth.set_access_token(access_token, access_secret)\n",
    "api = tweepy.API(auth, parser= tweepy.parsers.JSONParser())"
   ]
  },
  {
   "cell_type": "code",
   "execution_count": 15,
   "metadata": {},
   "outputs": [
    {
     "name": "stdout",
     "output_type": "stream",
     "text": [
      "{'neg': 0.0, 'neu': 1.0, 'pos': 0.0, 'compound': 0.0}\n"
     ]
    }
   ],
   "source": [
    "user_tweets = api.user_timeline(\"@BBCWorld\")\n",
    "print(analyzer.polarity_scores(user_tweets[19][\"text\"]))\n",
    "      \n",
    "#results = analyzer.polarity_scores(user_tweets[i][\"text\"])\n"
   ]
  },
  {
   "cell_type": "code",
   "execution_count": 16,
   "metadata": {},
   "outputs": [
    {
     "name": "stdout",
     "output_type": "stream",
     "text": [
      "{'News Organization': '@BBCWorld', 'Date': 'Wed Aug 01 03:02:23 +0000 2018', 'Compound Score': 0.0, 'Positive Score': 0.0, 'Negative Score': 0.0, 'Neutral Score': 1.0, 'Tweets Ago': 0}\n"
     ]
    }
   ],
   "source": [
    "#Put together list of news organizations for tweets to analyze\n",
    "targetusers = [\"@BBCWorld\", \"@CBSNews\", \"@CNN\", \"@FoxNews\", \"@nytimes\"]\n",
    "\n",
    "sentiments = []\n",
    "\n",
    "\n",
    "oldest_tweet = None\n",
    "\n",
    "counter = 0\n",
    "\n",
    "#Loop through all target users\n",
    "#max_id – Returns only statuses with an ID less than (that is, older than) or equal to the specified ID\n",
    "for user in targetusers:\n",
    "    oldest_tweet = None\n",
    "    \n",
    "    counter = 0\n",
    "    #loop through 5 pages of tweets (100 tweets in total for each target user)   \n",
    "    for x in range(5):\n",
    "        user_tweets = api.user_timeline(user, max_id = oldest_tweet, page = x)\n",
    "        #print(user_tweets)\n",
    "        \n",
    "        \n",
    "        for i in range(20):\n",
    "#         for tweet in user_tweets:\n",
    "            \n",
    "            results = analyzer.polarity_scores(user_tweets[i][\"text\"])\n",
    "            \n",
    "            compound = results[\"compound\"]\n",
    "            pos = results[\"pos\"]\n",
    "            neg = results['neg']\n",
    "            neu = results[\"neu\"]\n",
    "            \n",
    "            \n",
    "            oldest_tweet = (user_tweets[i][\"id\"])-1\n",
    "            \n",
    "            sentiments.append({\"News Organization\": user,\n",
    "                               \"Date\": user_tweets[i][\"created_at\"],\n",
    "                              \"Compound Score\": compound,\n",
    "                              \"Positive Score\": pos,\n",
    "                              \"Negative Score\": neg,\n",
    "                              \"Neutral Score\": neu,\n",
    "                             \"Tweets Ago\": counter})\n",
    "            \n",
    "           \n",
    "\n",
    "            counter += 1\n",
    "            \n",
    "            \n",
    "            \n",
    "print(sentiments[0])\n"
   ]
  },
  {
   "cell_type": "code",
   "execution_count": 17,
   "metadata": {},
   "outputs": [
    {
     "data": {
      "text/html": [
       "<div>\n",
       "<style scoped>\n",
       "    .dataframe tbody tr th:only-of-type {\n",
       "        vertical-align: middle;\n",
       "    }\n",
       "\n",
       "    .dataframe tbody tr th {\n",
       "        vertical-align: top;\n",
       "    }\n",
       "\n",
       "    .dataframe thead th {\n",
       "        text-align: right;\n",
       "    }\n",
       "</style>\n",
       "<table border=\"1\" class=\"dataframe\">\n",
       "  <thead>\n",
       "    <tr style=\"text-align: right;\">\n",
       "      <th></th>\n",
       "      <th>Compound Score</th>\n",
       "      <th>Date</th>\n",
       "      <th>Negative Score</th>\n",
       "      <th>Neutral Score</th>\n",
       "      <th>News Organization</th>\n",
       "      <th>Positive Score</th>\n",
       "      <th>Tweets Ago</th>\n",
       "    </tr>\n",
       "  </thead>\n",
       "  <tbody>\n",
       "    <tr>\n",
       "      <th>0</th>\n",
       "      <td>0.0000</td>\n",
       "      <td>Wed Aug 01 03:02:23 +0000 2018</td>\n",
       "      <td>0.000</td>\n",
       "      <td>1.000</td>\n",
       "      <td>@BBCWorld</td>\n",
       "      <td>0.000</td>\n",
       "      <td>0</td>\n",
       "    </tr>\n",
       "    <tr>\n",
       "      <th>1</th>\n",
       "      <td>-0.7351</td>\n",
       "      <td>Wed Aug 01 02:56:19 +0000 2018</td>\n",
       "      <td>0.408</td>\n",
       "      <td>0.592</td>\n",
       "      <td>@BBCWorld</td>\n",
       "      <td>0.000</td>\n",
       "      <td>1</td>\n",
       "    </tr>\n",
       "    <tr>\n",
       "      <th>2</th>\n",
       "      <td>0.0000</td>\n",
       "      <td>Wed Aug 01 02:13:11 +0000 2018</td>\n",
       "      <td>0.000</td>\n",
       "      <td>1.000</td>\n",
       "      <td>@BBCWorld</td>\n",
       "      <td>0.000</td>\n",
       "      <td>2</td>\n",
       "    </tr>\n",
       "    <tr>\n",
       "      <th>3</th>\n",
       "      <td>-0.5423</td>\n",
       "      <td>Wed Aug 01 01:53:35 +0000 2018</td>\n",
       "      <td>0.429</td>\n",
       "      <td>0.571</td>\n",
       "      <td>@BBCWorld</td>\n",
       "      <td>0.000</td>\n",
       "      <td>3</td>\n",
       "    </tr>\n",
       "    <tr>\n",
       "      <th>4</th>\n",
       "      <td>0.2023</td>\n",
       "      <td>Tue Jul 31 23:25:26 +0000 2018</td>\n",
       "      <td>0.000</td>\n",
       "      <td>0.833</td>\n",
       "      <td>@BBCWorld</td>\n",
       "      <td>0.167</td>\n",
       "      <td>4</td>\n",
       "    </tr>\n",
       "  </tbody>\n",
       "</table>\n",
       "</div>"
      ],
      "text/plain": [
       "   Compound Score                            Date  Negative Score  \\\n",
       "0          0.0000  Wed Aug 01 03:02:23 +0000 2018           0.000   \n",
       "1         -0.7351  Wed Aug 01 02:56:19 +0000 2018           0.408   \n",
       "2          0.0000  Wed Aug 01 02:13:11 +0000 2018           0.000   \n",
       "3         -0.5423  Wed Aug 01 01:53:35 +0000 2018           0.429   \n",
       "4          0.2023  Tue Jul 31 23:25:26 +0000 2018           0.000   \n",
       "\n",
       "   Neutral Score News Organization  Positive Score  Tweets Ago  \n",
       "0          1.000         @BBCWorld           0.000           0  \n",
       "1          0.592         @BBCWorld           0.000           1  \n",
       "2          1.000         @BBCWorld           0.000           2  \n",
       "3          0.571         @BBCWorld           0.000           3  \n",
       "4          0.833         @BBCWorld           0.167           4  "
      ]
     },
     "execution_count": 17,
     "metadata": {},
     "output_type": "execute_result"
    }
   ],
   "source": [
    "news_sentiments_df = pd.DataFrame(sentiments)\n",
    "news_sentiments_df.head()"
   ]
  },
  {
   "cell_type": "code",
   "execution_count": 18,
   "metadata": {},
   "outputs": [
    {
     "name": "stdout",
     "output_type": "stream",
     "text": [
      "['@BBCWorld', '@CBSNews', '@CNN', '@FoxNews', '@nytimes']\n"
     ]
    }
   ],
   "source": [
    "print(targetusers)"
   ]
  },
  {
   "cell_type": "code",
   "execution_count": 19,
   "metadata": {},
   "outputs": [
    {
     "data": {
      "text/html": [
       "<div>\n",
       "<style scoped>\n",
       "    .dataframe tbody tr th:only-of-type {\n",
       "        vertical-align: middle;\n",
       "    }\n",
       "\n",
       "    .dataframe tbody tr th {\n",
       "        vertical-align: top;\n",
       "    }\n",
       "\n",
       "    .dataframe thead th {\n",
       "        text-align: right;\n",
       "    }\n",
       "</style>\n",
       "<table border=\"1\" class=\"dataframe\">\n",
       "  <thead>\n",
       "    <tr style=\"text-align: right;\">\n",
       "      <th></th>\n",
       "      <th>Compound Score</th>\n",
       "      <th>Date</th>\n",
       "      <th>Negative Score</th>\n",
       "      <th>Neutral Score</th>\n",
       "      <th>News Organization</th>\n",
       "      <th>Positive Score</th>\n",
       "      <th>Tweets Ago</th>\n",
       "    </tr>\n",
       "  </thead>\n",
       "  <tbody>\n",
       "    <tr>\n",
       "      <th>200</th>\n",
       "      <td>0.0000</td>\n",
       "      <td>Wed Aug 01 03:09:41 +0000 2018</td>\n",
       "      <td>0.000</td>\n",
       "      <td>1.000</td>\n",
       "      <td>@CNN</td>\n",
       "      <td>0.000</td>\n",
       "      <td>0</td>\n",
       "    </tr>\n",
       "    <tr>\n",
       "      <th>201</th>\n",
       "      <td>0.4310</td>\n",
       "      <td>Wed Aug 01 03:01:05 +0000 2018</td>\n",
       "      <td>0.000</td>\n",
       "      <td>0.881</td>\n",
       "      <td>@CNN</td>\n",
       "      <td>0.119</td>\n",
       "      <td>1</td>\n",
       "    </tr>\n",
       "    <tr>\n",
       "      <th>202</th>\n",
       "      <td>0.4019</td>\n",
       "      <td>Wed Aug 01 02:59:15 +0000 2018</td>\n",
       "      <td>0.000</td>\n",
       "      <td>0.886</td>\n",
       "      <td>@CNN</td>\n",
       "      <td>0.114</td>\n",
       "      <td>2</td>\n",
       "    </tr>\n",
       "    <tr>\n",
       "      <th>203</th>\n",
       "      <td>-0.4019</td>\n",
       "      <td>Wed Aug 01 02:58:08 +0000 2018</td>\n",
       "      <td>0.124</td>\n",
       "      <td>0.876</td>\n",
       "      <td>@CNN</td>\n",
       "      <td>0.000</td>\n",
       "      <td>3</td>\n",
       "    </tr>\n",
       "    <tr>\n",
       "      <th>204</th>\n",
       "      <td>0.0000</td>\n",
       "      <td>Wed Aug 01 02:57:59 +0000 2018</td>\n",
       "      <td>0.000</td>\n",
       "      <td>1.000</td>\n",
       "      <td>@CNN</td>\n",
       "      <td>0.000</td>\n",
       "      <td>4</td>\n",
       "    </tr>\n",
       "  </tbody>\n",
       "</table>\n",
       "</div>"
      ],
      "text/plain": [
       "     Compound Score                            Date  Negative Score  \\\n",
       "200          0.0000  Wed Aug 01 03:09:41 +0000 2018           0.000   \n",
       "201          0.4310  Wed Aug 01 03:01:05 +0000 2018           0.000   \n",
       "202          0.4019  Wed Aug 01 02:59:15 +0000 2018           0.000   \n",
       "203         -0.4019  Wed Aug 01 02:58:08 +0000 2018           0.124   \n",
       "204          0.0000  Wed Aug 01 02:57:59 +0000 2018           0.000   \n",
       "\n",
       "     Neutral Score News Organization  Positive Score  Tweets Ago  \n",
       "200          1.000              @CNN           0.000           0  \n",
       "201          0.881              @CNN           0.119           1  \n",
       "202          0.886              @CNN           0.114           2  \n",
       "203          0.876              @CNN           0.000           3  \n",
       "204          1.000              @CNN           0.000           4  "
      ]
     },
     "execution_count": 19,
     "metadata": {},
     "output_type": "execute_result"
    }
   ],
   "source": [
    "\n",
    "BBC_df = news_sentiments_df[news_sentiments_df[\"News Organization\"]== \"@BBCWorld\"]\n",
    "Fox_df = news_sentiments_df[news_sentiments_df[\"News Organization\"]== \"@FoxNews\"]\n",
    "CBS_df = news_sentiments_df[news_sentiments_df[\"News Organization\"]== \"@CBSNews\"]\n",
    "CNN_df = news_sentiments_df[news_sentiments_df[\"News Organization\"]== \"@CNN\"]\n",
    "NYT_df = news_sentiments_df[news_sentiments_df[\"News Organization\"]== \"@nytimes\"]\n",
    "\n",
    "#BBC_df = BBC_df.set_index(\"News Organization\")\n",
    "\n",
    "# print(len(news_sentiments_df))\n",
    "# print(len(BBC_df))\n",
    "CNN_df.head()"
   ]
  },
  {
   "cell_type": "code",
   "execution_count": 20,
   "metadata": {},
   "outputs": [
    {
     "data": {
      "image/png": "[encoded data removed]",
      "text/plain": [
       "<Figure size 432x288 with 1 Axes>"
      ]
     },
     "metadata": {},
     "output_type": "display_data"
    }
   ],
   "source": [
    "CNNplot = plt.scatter(CNN_df[\"Tweets Ago\"], CNN_df[\"Compound Score\"], c = \"r\", marker = \"o\", alpha = 0.65, edgecolor = \"black\")\n",
    "BBCplot = plt.scatter(BBC_df[\"Tweets Ago\"], BBC_df[\"Compound Score\"], c = \"lightblue\", marker = \"o\", alpha = 0.65, edgecolor = \"black\")\n",
    "Foxplot = plt.scatter(Fox_df[\"Tweets Ago\"], Fox_df[\"Compound Score\"], c = \"b\", marker = \"o\", alpha = 0.65, edgecolor = \"black\")\n",
    "CBSplot= plt.scatter(CBS_df[\"Tweets Ago\"], CBS_df[\"Compound Score\"], c = \"g\", marker = \"o\", alpha = 0.65, edgecolor = \"black\")\n",
    "NYTplot= plt.scatter(NYT_df[\"Tweets Ago\"], NYT_df[\"Compound Score\"], c = \"y\", marker = \"o\", alpha = 0.65, edgecolor = \"black\")\n",
    "\n",
    "plt.xlabel(\"Tweets Ago\")\n",
    "plt.ylabel(\"Tweet Polarity\")\n",
    "plt.title(\"Sentiment Analysis of Media Tweets at %s \" %time.strftime(\"%x\"))\n",
    "plt.legend(targetusers, bbox_to_anchor = (1,1))\n",
    "plt.tight_layout()\n",
    "plt.savefig(\"Output/NewsSentimentsScatter.png\")\n",
    "plt.grid(True)\n",
    "plt.show()"
   ]
  },
  {
   "cell_type": "code",
   "execution_count": 19,
   "metadata": {},
   "outputs": [
    {
     "name": "stdout",
     "output_type": "stream",
     "text": [
      "['@BBCWorld', '@CBSNews', '@CNN', '@FoxNews', '@nytimes']\n"
     ]
    }
   ],
   "source": [
    "print(targetusers)"
   ]
  },
  {
   "cell_type": "code",
   "execution_count": 24,
   "metadata": {},
   "outputs": [
    {
     "data": {
      "text/plain": [
       "News Organization\n",
       "@BBCWorld   -0.171370\n",
       "@CBSNews    -0.093966\n",
       "@CNN         0.020430\n",
       "@FoxNews     0.059172\n",
       "@nytimes    -0.052380\n",
       "Name: Compound Score, dtype: float64"
      ]
     },
     "execution_count": 24,
     "metadata": {},
     "output_type": "execute_result"
    }
   ],
   "source": [
    "averagesgroup = news_sentiments_df.groupby(\"News Organization\").mean()[\"Compound Score\"]\n",
    "\n",
    "averagesgroup.head()\n",
    "\n"
   ]
  },
  {
   "cell_type": "code",
   "execution_count": 25,
   "metadata": {},
   "outputs": [
    {
     "data": {
      "image/png": "[encoded data removed]",
      "text/plain": [
       "<Figure size 432x288 with 1 Axes>"
      ]
     },
     "metadata": {},
     "output_type": "display_data"
    }
   ],
   "source": [
    "averagesgroup.plot(kind = \"bar\", align = \"center\")\n",
    "plt.xlabel(\"Tweet Polarity\")\n",
    "plt.ylabel(\"News Organization\")\n",
    "plt.savefig(\"Output/CompoundScoreAverageNews.png\")\n",
    "plt.tight_layout()\n",
    "plt.show()"
   ]
  },
  {
   "cell_type": "code",
   "execution_count": null,
   "metadata": {},
   "outputs": [],
   "source": []
  }
 ],
 "metadata": {
  "kernelspec": {
   "display_name": "Python 3",
   "language": "python",
   "name": "python3"
  },
  "language_info": {
   "codemirror_mode": {
    "name": "ipython",
    "version": 3
   },
   "file_extension": ".py",
   "mimetype": "text/x-python",
   "name": "python",
   "nbconvert_exporter": "python",
   "pygments_lexer": "ipython3",
   "version": "3.6.5"
  }
 },
 "nbformat": 4,
 "nbformat_minor": 2
}
